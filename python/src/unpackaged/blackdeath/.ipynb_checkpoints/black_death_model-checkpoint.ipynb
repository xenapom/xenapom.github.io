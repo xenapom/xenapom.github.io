{
 "cells": [
  {
   "cell_type": "markdown",
   "metadata": {},
   "source": [
    "# Black Death Model in Python"
   ]
  },
  {
   "cell_type": "markdown",
   "metadata": {},
   "source": [
    "This is the model code for the black death assignment 2. \n",
    "\n",
    "The program calculates the total deaths from the disease using historical figures of rat \n",
    "populations and the population density.\n",
    "\n",
    "There are two input raster map files:\n",
    "    \n",
    "1. Average population density per 100x100 m square\n",
    "2. Average number of rats caught per 100x100 m square\n",
    "\n",
    "The relationship between average rats caught per week per 100m x 100m square(r), \n",
    "average population density per 100m x 100m square(p) \n",
    "and average deaths per week per 100m x 100m square(d) is:\n",
    "    \n",
    "d = (0.8 x r) x (1.3 x p) \n",
    "\n",
    "\n",
    "The program does the following:\n",
    "    \n",
    "1. Reads the two maps and puts them on the screen. \n",
    "Each pixel represents a 100m x 100m square area.\n",
    "\n",
    "2. Calculates a map showing average deaths per 100m x 100m square area \n",
    "for the different geographical regions produced by the intersection of the two images.\n",
    "It runs through the maps and pulls out the values for each pair of equivalently positioned cells. \n",
    "It then puts them through the equation and produces a two dimensional array of absolute deaths \n",
    "that you can convert into an Image mapping the deaths.\n",
    "\n",
    "3. Displays the three maps.\n",
    "\n",
    "3. Saves the death map as a text file of absolute deaths. Each line equals a line on the map.\n",
    "\n",
    "4. Displays the total deaths per week.\n",
    "\n",
    "5. Allows the user to change the parameter weights for the equation."
   ]
  },
  {
   "cell_type": "markdown",
   "metadata": {},
   "source": [
    "Next, we define the lists and variables needed"
   ]
  },
  {
   "cell_type": "code",
   "execution_count": 1,
   "metadata": {},
   "outputs": [
    {
     "data": {
      "text/plain": [
       "<matplotlib.figure.Figure at 0xbef6e36b38>"
      ]
     },
     "metadata": {},
     "output_type": "display_data"
    },
    {
     "data": {
      "text/plain": [
       "<matplotlib.figure.Figure at 0xbef648c080>"
      ]
     },
     "metadata": {},
     "output_type": "display_data"
    }
   ],
   "source": [
    "import matplotlib.pyplot as plt\n",
    "import csv\n",
    "import sys\n",
    "\n",
    "population_density = []\n",
    "rats_caught = []\n",
    "num_deaths = [] #this list holds the number of deaths based on the calc\n",
    "txt_list = [] #list for writing to file\n",
    "\n",
    "# function to read input files and put their values into a list\n",
    "# One list per input file, i.e. one for the population density and one \n",
    "# for the average number of rats caught\n",
    "def read_file(filename):\n",
    "    items = []\n",
    "    csv_file = open(filename)\n",
    "    reader = csv.reader(csv_file)\n",
    "    for row in reader:\n",
    "        # new rowlist before each row\n",
    "        rowlist = []\n",
    "        for values in row:\n",
    "            # add the row values into the rowlist, make sure they are integers\n",
    "            rowlist.append(int(values))\n",
    "            # add the row to the population density list\n",
    "        items.append(rowlist)\n",
    "    return items\n",
    "\n",
    "# function that iterates the 400 x 400 coordinate system, takes rats\n",
    "# caught at a given position and the density of people at that same position\n",
    "# and calculates the number of deaths based on the formula given\n",
    "def iterate_lists(num_of_iterations, txt_list, rat_weight, population_weight):\n",
    "    death_list = []\n",
    "    for i in range(num_of_iterations):  \n",
    "        tmp_list = [] # temporaty list to store deaths per row\n",
    "        tmp_txt_list = \"\"\n",
    "        num_rats_caught = float(rats_caught[i][i])\n",
    "        density_people = float(population_density[i][i])\n",
    "        #deaths = int((0.8 * num_rats_caught) * (1.3 * density_people))\n",
    "        deaths = int((float(rat_weight) * num_rats_caught) * (float(population_weight) * density_people))\n",
    "        for j in range(num_of_iterations):\n",
    "            tmp_list.append(deaths)\n",
    "            tmp_death = str(deaths)\n",
    "            if i <= 399:\n",
    "                tmp_txt_list = tmp_txt_list + tmp_death+\",\"\n",
    "            else:\n",
    "                tmp_txt_list = tmp_txt_list + tmp_death\n",
    "        #add each row to the death list\n",
    "        death_list.append(tmp_list)\n",
    "        txt_list.append(tmp_txt_list)\n",
    "\n",
    "    return death_list\n",
    "\n",
    "# function that writes the number of deaths to a csv file\n",
    "# takes the file name as an input parameter and writes a new line for each \n",
    "def write_file(filename, txt_list):\n",
    "    with open(filename,'w') as output_file:\n",
    "        output_file.write('\\n'.join(txt_list))\n",
    "\n",
    "\n",
    "#read the input arguments for the weights\n",
    "#In Spyder, runas \"Configuration per file\" and give the input parameters\n",
    "#rat_weight = sys.argv[1]\n",
    "#population_weight = sys.argv[2]\n",
    "rat_weight = 0.8\n",
    "population_weight = 1.3\n",
    "\n",
    "#read the files\n",
    "population_density = read_file('death_parishes.csv')\n",
    "rats_caught = read_file('death_rats.csv')\n",
    "num_deaths = iterate_lists(400, txt_list, rat_weight, population_weight)\n",
    "#write to the text file\n",
    "write_file('absolute_deaths.txt', txt_list)\n",
    "\n",
    "# Plot the three different maps on the screen\n",
    "'''\n",
    "plt = matplotlib.pyplot\n",
    "plt.figure()\n",
    "plt.figure(figsize=(7, 7))\n",
    "plt.imshow(population_density)\n",
    "plt.figure()\n",
    "plt.figure(figsize=(7, 7))\n",
    "plt.imshow(rats_caught)\n",
    "plt.figure()\n",
    "plt.figure(figsize=(7, 7))\n",
    "plt.imshow(num_deaths)\n",
    "'''\n",
    "plt.figure()\n",
    "plt.figure(figsize=(7, 7))\n",
    "plt.show(population_density)"
   ]
  },
  {
   "cell_type": "code",
   "execution_count": null,
   "metadata": {
    "collapsed": true
   },
   "outputs": [],
   "source": []
  },
  {
   "cell_type": "code",
   "execution_count": null,
   "metadata": {
    "collapsed": true
   },
   "outputs": [],
   "source": []
  }
 ],
 "metadata": {
  "kernelspec": {
   "display_name": "Python 3",
   "language": "python",
   "name": "python3"
  },
  "language_info": {
   "codemirror_mode": {
    "name": "ipython",
    "version": 3
   },
   "file_extension": ".py",
   "mimetype": "text/x-python",
   "name": "python",
   "nbconvert_exporter": "python",
   "pygments_lexer": "ipython3",
   "version": "3.6.2"
  }
 },
 "nbformat": 4,
 "nbformat_minor": 2
}
